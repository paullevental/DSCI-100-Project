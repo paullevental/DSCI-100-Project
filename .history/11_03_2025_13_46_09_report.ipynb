{
 "cells": [
  {
   "cell_type": "code",
   "execution_count": null,
   "id": "6df8ad74-0327-4c98-880b-6810ee3db588",
   "metadata": {},
   "outputs": [],
   "source": [
    "### Run this cell before continuing.\n",
    "library(tidyverse)\n",
    "library(repr)\n",
    "library(tidymodels)\n",
    "options(repr.matrix.max.rows = 6)"
   ]
  },
  {
   "cell_type": "code",
   "execution_count": null,
   "id": "df9d0722-1e6d-4b0c-a052-1db782b7d551",
   "metadata": {},
   "outputs": [],
   "source": [
    "sessions_url <- \"https://canvas.ubc.ca/api/v1/courses/153254/files/37600952\"\n",
    "players_url <- \"https://github.com/paullevental/DSCI-100-project-data/blob/main/players.csv\"\n",
    "\n",
    "sessions <- read_csv(sessions_url)\n",
    "players <- read_csv(players_url)"
   ]
  },
  {
   "cell_type": "code",
   "execution_count": null,
   "id": "120304f9-7eec-42e7-aa92-5fea50681482",
   "metadata": {},
   "outputs": [],
   "source": [
    "sessions\n",
    "players"
   ]
  },
  {
   "cell_type": "code",
   "execution_count": null,
   "id": "6165ac42-32af-46ca-8a42-c9dd8479e10a",
   "metadata": {},
   "outputs": [],
   "source": []
  }
 ],
 "metadata": {
  "kernelspec": {
   "display_name": "R",
   "language": "R",
   "name": "ir"
  },
  "language_info": {
   "codemirror_mode": "r",
   "file_extension": ".r",
   "mimetype": "text/x-r-source",
   "name": "R",
   "pygments_lexer": "r",
   "version": "4.3.3"
  }
 },
 "nbformat": 4,
 "nbformat_minor": 5
}
