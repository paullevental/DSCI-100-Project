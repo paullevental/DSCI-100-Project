{
 "cells": [
  {
   "cell_type": "code",
   "execution_count": null,
   "id": "6df8ad74-0327-4c98-880b-6810ee3db588",
   "metadata": {},
   "outputs": [],
   "source": [
    "### Run this cell before continuing.\n",
    "library(tidyverse)\n",
    "library(repr)\n",
    "library(tidymodels)\n",
    "options(repr.matrix.max.rows = 6)"
   ]
  },
  {
   "cell_type": "code",
   "execution_count": null,
   "id": "df9d0722-1e6d-4b0c-a052-1db782b7d551",
   "metadata": {},
   "outputs": [],
   "source": [
    "players_url <- \"https://raw.githubusercontent.com/paullevental/DSCI-100-project-data/main/players.csv\"\n",
    "sessions_url <- \"https://raw.githubusercontent.com/paullevental/DSCI-100-project-data/main/sessions.csv\"\n",
    "\n",
    "players <- read_csv(players_url)\n",
    "sessions <- read_csv(sessions_url)"
   ]
  },
  {
   "cell_type": "markdown",
   "id": "c38e8fb3-f521-436b-ab53-828aea8bba3f",
   "metadata": {},
   "source": [
    "# Players and Sessions Data overview\n",
    "\n",
    "\n",
    "## Players\n",
    "\n",
    "**Dimensions:** 196 rows x 7 columns\n",
    "\n",
    "**Key Variables:**\n",
    "- **experience:** `<chr>`  A categorical variable indicating the player’s experience level (e.g., *Pro*, *Veteran*, *Amateur*).\n",
    "- **subscribe:** `<lgl>`   A logical (TRUE/FALSE) indicator of whether the player has an active subscription.\n",
    "- **hashedEmail:** `<chr>`   A hashed version of the player's email, which can be used to link players to their session data.\n",
    "- **played_hours:** `<dbl>`   A numeric value representing the total hours the player has engaged in gameplay.\n",
    "- **name:** `<chr>`   The name of the player.\n",
    "- **gender:** `<chr>`   A character variable describing the player’s gender.\n",
    "- **Age:**  `<dbl>`  The player's age, which may include missing values (NA).\n",
    "\n",
    "## Sessions\n",
    "\n",
    "**Dimensions:** 1535 rows × 5 columns\n",
    "\n",
    "**Key Variables:**\n",
    "- **hashedEmail:**  `<chr>`  A character string representing the hashed email of a user (used for identification while preserving privacy).\n",
    "- **start_time & end_time:** `<chr>`   These columns record the start and end times of each session in a human-readable format (e.g., `30/06/2024 18:12`).\n",
    "- **original_start_time & original_end_time:** `<dbl>`   Numeric columns (in double format) that likely represent the session times as Unix timestamps (in milliseconds).\n",
    "\n"
   ]
  },
  {
   "cell_type": "code",
   "execution_count": null,
   "id": "120304f9-7eec-42e7-aa92-5fea50681482",
   "metadata": {},
   "outputs": [],
   "source": [
    "sessions\n",
    "players"
   ]
  },
  {
   "cell_type": "code",
   "execution_count": null,
   "id": "2d19abea-9281-4801-8e21-0fd72f75c030",
   "metadata": {},
   "outputs": [],
   "source": []
  }
 ],
 "metadata": {
  "kernelspec": {
   "display_name": "R",
   "language": "R",
   "name": "ir"
  },
  "language_info": {
   "codemirror_mode": "r",
   "file_extension": ".r",
   "mimetype": "text/x-r-source",
   "name": "R",
   "pygments_lexer": "r",
   "version": "4.3.3"
  }
 },
 "nbformat": 4,
 "nbformat_minor": 5
}
